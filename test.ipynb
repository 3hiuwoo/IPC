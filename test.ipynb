{
 "cells": [
  {
   "cell_type": "code",
   "execution_count": 2,
   "id": "0bf88fac",
   "metadata": {},
   "outputs": [],
   "source": [
    "lst = [\"apple\", \"banana\"]"
   ]
  },
  {
   "cell_type": "code",
   "execution_count": 3,
   "id": "0115c67a",
   "metadata": {},
   "outputs": [
    {
     "data": {
      "text/plain": [
       "\"['apple', 'banana']\""
      ]
     },
     "execution_count": 3,
     "metadata": {},
     "output_type": "execute_result"
    }
   ],
   "source": [
    "str(lst)"
   ]
  },
  {
   "cell_type": "code",
   "execution_count": 5,
   "id": "2ed22303",
   "metadata": {},
   "outputs": [
    {
     "data": {
      "text/plain": [
       "\"the list is: ['apple', 'banana']\""
      ]
     },
     "execution_count": 5,
     "metadata": {},
     "output_type": "execute_result"
    }
   ],
   "source": [
    "\"the list is: {}\".format(lst)"
   ]
  },
  {
   "cell_type": "code",
   "execution_count": 6,
   "id": "7802ddae",
   "metadata": {},
   "outputs": [
    {
     "data": {
      "text/plain": [
       "\"the list is: ['apple', 'banana']\""
      ]
     },
     "execution_count": 6,
     "metadata": {},
     "output_type": "execute_result"
    }
   ],
   "source": [
    "\"the list is: {}\".format(str(lst))"
   ]
  },
  {
   "cell_type": "code",
   "execution_count": 7,
   "id": "8d431725",
   "metadata": {},
   "outputs": [
    {
     "data": {
      "text/plain": [
       "\"The list is: ['apple', 'banana']\""
      ]
     },
     "execution_count": 7,
     "metadata": {},
     "output_type": "execute_result"
    }
   ],
   "source": [
    "f\"The list is: {lst}\""
   ]
  },
  {
   "cell_type": "code",
   "execution_count": 2,
   "id": "4a3a7bb6",
   "metadata": {},
   "outputs": [],
   "source": [
    "dic = {\"name\": \"Alice\", \"age\": 30}"
   ]
  },
  {
   "cell_type": "code",
   "execution_count": 3,
   "id": "1aa3ab13",
   "metadata": {},
   "outputs": [],
   "source": [
    "dic.update({\"city\": \"New York\"})"
   ]
  },
  {
   "cell_type": "code",
   "execution_count": 4,
   "id": "77290b69",
   "metadata": {},
   "outputs": [
    {
     "data": {
      "text/plain": [
       "{'name': 'Alice', 'age': 30, 'city': 'New York'}"
      ]
     },
     "execution_count": 4,
     "metadata": {},
     "output_type": "execute_result"
    }
   ],
   "source": [
    "dic"
   ]
  },
  {
   "cell_type": "code",
   "execution_count": null,
   "id": "8b756aff",
   "metadata": {},
   "outputs": [],
   "source": []
  }
 ],
 "metadata": {
  "kernelspec": {
   "display_name": "Python 3",
   "language": "python",
   "name": "python3"
  },
  "language_info": {
   "codemirror_mode": {
    "name": "ipython",
    "version": 3
   },
   "file_extension": ".py",
   "mimetype": "text/x-python",
   "name": "python",
   "nbconvert_exporter": "python",
   "pygments_lexer": "ipython3",
   "version": "3.10.17"
  }
 },
 "nbformat": 4,
 "nbformat_minor": 5
}
